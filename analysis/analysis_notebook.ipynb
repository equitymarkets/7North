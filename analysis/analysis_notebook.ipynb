{
 "cells": [
  {
   "cell_type": "code",
   "execution_count": 31,
   "id": "37ad89cc",
   "metadata": {},
   "outputs": [],
   "source": [
    "import json\n",
    "import requests\n",
    "import pandas as pd\n",
    "import numpy as np\n",
    "import urllib.request"
   ]
  },
  {
   "cell_type": "code",
   "execution_count": 32,
   "id": "782fe22c",
   "metadata": {},
   "outputs": [],
   "source": [
    "from config import api_key"
   ]
  },
  {
   "cell_type": "code",
   "execution_count": 33,
   "id": "24888301",
   "metadata": {},
   "outputs": [],
   "source": [
    "url = \"https://api.tomtom.com/map/1/tile/basic/main/0/0/0.png?view=Unified&key=\""
   ]
  },
  {
   "cell_type": "code",
   "execution_count": 41,
   "id": "70722dde",
   "metadata": {},
   "outputs": [],
   "source": [
    "query_url = url + api_key"
   ]
  },
  {
   "cell_type": "code",
   "execution_count": 42,
   "id": "016bbe3f",
   "metadata": {},
   "outputs": [
    {
     "name": "stdout",
     "output_type": "stream",
     "text": [
      "https://api.tomtom.com/search/2/search/BrynMawr,PA.json?idxSet=Geo&key=kSxX20NGoxjDwAfpu9wWG7d41WfTdwjZkSxX20NGoxjDwAfpu9wWG7d41WfTdwjZ\n"
     ]
    }
   ],
   "source": [
    "print(query_url)"
   ]
  },
  {
   "cell_type": "code",
   "execution_count": null,
   "id": "8a7967d4",
   "metadata": {},
   "outputs": [],
   "source": []
  },
  {
   "cell_type": "code",
   "execution_count": 39,
   "id": "c7ac3272",
   "metadata": {},
   "outputs": [],
   "source": [
    "city = \"BrynMawr,PA\""
   ]
  },
  {
   "cell_type": "code",
   "execution_count": 40,
   "id": "9996bf99",
   "metadata": {},
   "outputs": [
    {
     "name": "stdout",
     "output_type": "stream",
     "text": [
      "{\"summary\":{\"query\":\"brynmawr pa\",\"queryType\":\"NON_NEAR\",\"queryTime\":55,\"numResults\":10,\"offset\":0,\"totalResults\":100,\"fuzzyLevel\":2,\"queryIntent\":[]},\"results\":[{\"type\":\"Geography\",\"id\":\"420R_tLr9hWGAuys7A0swQ\",\"score\":5.379160881,\"entityType\":\"Municipality\",\"address\":{\"municipality\":\"Bryn Mawr\",\"countrySubdivision\":\"PA\",\"countrySubdivisionName\":\"Pennsylvania\",\"countrySubdivisionCode\":\"PA\",\"countryCode\":\"US\",\"country\":\"United States\",\"countryCodeISO3\":\"USA\",\"freeformAddress\":\"Bryn Mawr, PA\"},\"position\":{\"lat\":40.022711,\"lon\":-75.320873},\"viewport\":{\"topLeftPoint\":{\"lat\":40.05847,\"lon\":-75.37994},\"btmRightPoint\":{\"lat\":39.99538,\"lon\":-75.28672}},\"boundingBox\":{\"topLeftPoint\":{\"lat\":40.058471,\"lon\":-75.379942},\"btmRightPoint\":{\"lat\":39.995375,\"lon\":-75.286722}},\"dataSources\":{\"geometry\":{\"id\":\"e7640789-59df-4f3c-992b-b97dd30dd4d5\"}}},{\"type\":\"Geography\",\"id\":\"bpfGxnIkZOyqW4Yl3h5RUg\",\"score\":3.5900056362,\"entityType\":\"Municipality\",\"address\":{\"municipality\":\"Philadelphia\",\"countrySecondarySubdivision\":\"Philadelphia\",\"countrySubdivision\":\"PA\",\"countrySubdivisionName\":\"Pennsylvania\",\"countrySubdivisionCode\":\"PA\",\"countryCode\":\"US\",\"country\":\"United States\",\"countryCodeISO3\":\"USA\",\"freeformAddress\":\"Philadelphia, PA\"},\"position\":{\"lat\":39.95106,\"lon\":-75.16562},\"viewport\":{\"topLeftPoint\":{\"lat\":40.13799,\"lon\":-75.28028},\"btmRightPoint\":{\"lat\":39.86591,\"lon\":-74.95571}},\"boundingBox\":{\"topLeftPoint\":{\"lat\":40.137989,\"lon\":-75.280284},\"btmRightPoint\":{\"lat\":39.865913,\"lon\":-74.955712}},\"dataSources\":{\"geometry\":{\"id\":\"00005550-3100-3c00-0000-0000596af69e\"}}},{\"type\":\"Geography\",\"id\":\"7B58o6YjXgUqSpjUiZ29oQ\",\"score\":3.5026540756,\"entityType\":\"Municipality\",\"address\":{\"municipality\":\"Belém\",\"countrySubdivision\":\"Pará\",\"countrySubdivisionName\":\"Pará\",\"countrySubdivisionCode\":\"PA\",\"countryCode\":\"BR\",\"country\":\"Brazil\",\"countryCodeISO3\":\"BRA\",\"freeformAddress\":\"Belém\"},\"position\":{\"lat\":-1.454982,\"lon\":-48.502273},\"viewport\":{\"topLeftPoint\":{\"lat\":-1.01941,\"lon\":-48.62368},\"btmRightPoint\":{\"lat\":-1.52673,\"lon\":-48.29591}},\"boundingBox\":{\"topLeftPoint\":{\"lat\":-1.019406,\"lon\":-48.623684},\"btmRightPoint\":{\"lat\":-1.526727,\"lon\":-48.295911}},\"dataSources\":{\"geometry\":{\"id\":\"00005858-5800-1200-0000-00007736ef7e\"}}},{\"type\":\"Geography\",\"id\":\"r7sPtED5r1n-9Ll7TWpoEQ\",\"score\":3.4700264931,\"entityType\":\"Municipality\",\"address\":{\"municipality\":\"Pittsburgh\",\"countrySecondarySubdivision\":\"Allegheny\",\"countrySubdivision\":\"PA\",\"countrySubdivisionName\":\"Pennsylvania\",\"countrySubdivisionCode\":\"PA\",\"countryCode\":\"US\",\"country\":\"United States\",\"countryCodeISO3\":\"USA\",\"freeformAddress\":\"Pittsburgh, PA\"},\"position\":{\"lat\":40.442168,\"lon\":-79.994957},\"viewport\":{\"topLeftPoint\":{\"lat\":40.5705,\"lon\":-80.11844},\"btmRightPoint\":{\"lat\":40.29987,\"lon\":-79.86579}},\"boundingBox\":{\"topLeftPoint\":{\"lat\":40.570499,\"lon\":-80.118443},\"btmRightPoint\":{\"lat\":40.299866,\"lon\":-79.865793}},\"dataSources\":{\"geometry\":{\"id\":\"00005550-3200-3c00-0000-000059a7b4e2\"}}},{\"type\":\"Geography\",\"id\":\"Viqmwvh9s_t3qqGX8gmS_A\",\"score\":3.3123393059,\"entityType\":\"Municipality\",\"address\":{\"municipality\":\"Ananindeua\",\"countrySubdivision\":\"Pará\",\"countrySubdivisionName\":\"Pará\",\"countrySubdivisionCode\":\"PA\",\"countryCode\":\"BR\",\"country\":\"Brazil\",\"countryCodeISO3\":\"BRA\",\"freeformAddress\":\"Ananindeua\"},\"position\":{\"lat\":-1.366392,\"lon\":-48.372206},\"viewport\":{\"topLeftPoint\":{\"lat\":-1.22315,\"lon\":-48.44017},\"btmRightPoint\":{\"lat\":-1.46552,\"lon\":-48.33143}},\"boundingBox\":{\"topLeftPoint\":{\"lat\":-1.223149,\"lon\":-48.440172},\"btmRightPoint\":{\"lat\":-1.465523,\"lon\":-48.331434}},\"dataSources\":{\"geometry\":{\"id\":\"00005858-5800-1200-0000-00007d2f8a55\"}}},{\"type\":\"Geography\",\"id\":\"-yIkJR4R2rDbjtJ48LS0AQ\",\"score\":3.2550549507,\"entityType\":\"Municipality\",\"address\":{\"municipality\":\"Allentown\",\"countrySecondarySubdivision\":\"Lehigh\",\"countrySubdivision\":\"PA\",\"countrySubdivisionName\":\"Pennsylvania\",\"countrySubdivisionCode\":\"PA\",\"countryCode\":\"US\",\"country\":\"United States\",\"countryCodeISO3\":\"USA\",\"freeformAddress\":\"Allentown, PA\"},\"position\":{\"lat\":40.602753,\"lon\":-75.469759},\"viewport\":{\"topLeftPoint\":{\"lat\":40.636,\"lon\":-75.54803},\"btmRightPoint\":{\"lat\":40.54972,\"lon\":-75.4196}},\"boundingBox\":{\"topLeftPoint\":{\"lat\":40.636004,\"lon\":-75.548035},\"btmRightPoint\":{\"lat\":40.549718,\"lon\":-75.419595}},\"dataSources\":{\"geometry\":{\"id\":\"00005550-3100-3c00-0000-0000596af122\"}}},{\"type\":\"Geography\",\"id\":\"4parDJnj5sibSfQ-nSEgPA\",\"score\":3.2416734695,\"entityType\":\"Municipality\",\"address\":{\"municipality\":\"Hempfield\",\"countrySecondarySubdivision\":\"Westmoreland\",\"countrySubdivision\":\"PA\",\"countrySubdivisionName\":\"Pennsylvania\",\"countrySubdivisionCode\":\"PA\",\"countryCode\":\"US\",\"country\":\"United States\",\"countryCodeISO3\":\"USA\",\"freeformAddress\":\"Hempfield, PA\"},\"position\":{\"lat\":40.285444,\"lon\":-79.589192},\"viewport\":{\"topLeftPoint\":{\"lat\":40.37518,\"lon\":-79.70016},\"btmRightPoint\":{\"lat\":40.18663,\"lon\":-79.46264}},\"boundingBox\":{\"topLeftPoint\":{\"lat\":40.375182,\"lon\":-79.700156},\"btmRightPoint\":{\"lat\":40.186633,\"lon\":-79.462645}},\"dataSources\":{\"geometry\":{\"id\":\"00005858-5800-1200-0000-00007d2c769b\"}}},{\"type\":\"Geography\",\"id\":\"8ioR9QLtRIvF3WDM-p1aGA\",\"score\":3.2383694649,\"entityType\":\"Municipality\",\"address\":{\"municipality\":\"Santarém\",\"countrySubdivision\":\"Pará\",\"countrySubdivisionName\":\"Pará\",\"countrySubdivisionCode\":\"PA\",\"countryCode\":\"BR\",\"country\":\"Brazil\",\"countryCodeISO3\":\"BRA\",\"freeformAddress\":\"Santarém\"},\"position\":{\"lat\":-2.439435,\"lon\":-54.698735},\"viewport\":{\"topLeftPoint\":{\"lat\":-2.07151,\"lon\":-56.34457},\"btmRightPoint\":{\"lat\":-3.26652,\"lon\":-54.0452}},\"boundingBox\":{\"topLeftPoint\":{\"lat\":-2.071505,\"lon\":-56.344569},\"btmRightPoint\":{\"lat\":-3.266522,\"lon\":-54.045196}},\"dataSources\":{\"geometry\":{\"id\":\"8028c7f8-d0d6-4f51-8270-1cb8afc5266c\"}}},{\"type\":\"Geography\",\"id\":\"F2kVGPg6BVGdAZYheHsugA\",\"score\":3.2344045639,\"entityType\":\"Municipality\",\"address\":{\"municipality\":\"Lower Makefield\",\"countrySecondarySubdivision\":\"Bucks\",\"countrySubdivision\":\"PA\",\"countrySubdivisionName\":\"Pennsylvania\",\"countrySubdivisionCode\":\"PA\",\"countryCode\":\"US\",\"country\":\"United States\",\"countryCodeISO3\":\"USA\",\"freeformAddress\":\"Lower Makefield, PA\"},\"position\":{\"lat\":40.230822,\"lon\":-74.854221},\"viewport\":{\"topLeftPoint\":{\"lat\":40.26958,\"lon\":-74.91425},\"btmRightPoint\":{\"lat\":40.19299,\"lon\":-74.78195}},\"boundingBox\":{\"topLeftPoint\":{\"lat\":40.269583,\"lon\":-74.91425},\"btmRightPoint\":{\"lat\":40.192987,\"lon\":-74.781946}},\"dataSources\":{\"geometry\":{\"id\":\"00005858-5800-1200-0000-00007d2c85cd\"}}},{\"type\":\"Geography\",\"id\":\"lZu_WuQx73fz96hG1n-TBw\",\"score\":3.2322154045,\"entityType\":\"Municipality\",\"address\":{\"municipality\":\"Scranton\",\"countrySecondarySubdivision\":\"Lackawanna\",\"countrySubdivision\":\"PA\",\"countrySubdivisionName\":\"Pennsylvania\",\"countrySubdivisionCode\":\"PA\",\"countryCode\":\"US\",\"country\":\"United States\",\"countryCodeISO3\":\"USA\",\"freeformAddress\":\"Scranton, PA\"},\"position\":{\"lat\":41.409119,\"lon\":-75.662389},\"viewport\":{\"topLeftPoint\":{\"lat\":41.46957,\"lon\":-75.72002},\"btmRightPoint\":{\"lat\":41.33894,\"lon\":-75.60444}},\"boundingBox\":{\"topLeftPoint\":{\"lat\":41.469569,\"lon\":-75.720016},\"btmRightPoint\":{\"lat\":41.338942,\"lon\":-75.604439}},\"dataSources\":{\"geometry\":{\"id\":\"00005550-3100-3c00-0000-0000596af391\"}}}]}\n"
     ]
    }
   ],
   "source": [
    "# Get the center location of the city.\n",
    "url = 'https://api.tomtom.com/search/2/search/'+city+'.json?idxSet=Geo&key='+api_key\n",
    "\n",
    "req = urllib.request.urlopen(url)\n",
    "data = req.read().decode('utf-8')\n",
    "print(data)"
   ]
  },
  {
   "cell_type": "code",
   "execution_count": null,
   "id": "66066f8c",
   "metadata": {},
   "outputs": [],
   "source": []
  }
 ],
 "metadata": {
  "kernelspec": {
   "display_name": "Python 3 (ipykernel)",
   "language": "python",
   "name": "python3"
  },
  "language_info": {
   "codemirror_mode": {
    "name": "ipython",
    "version": 3
   },
   "file_extension": ".py",
   "mimetype": "text/x-python",
   "name": "python",
   "nbconvert_exporter": "python",
   "pygments_lexer": "ipython3",
   "version": "3.9.13"
  }
 },
 "nbformat": 4,
 "nbformat_minor": 5
}
