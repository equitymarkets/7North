{
 "cells": [
  {
   "cell_type": "code",
   "execution_count": 47,
   "id": "8318e007",
   "metadata": {},
   "outputs": [],
   "source": [
    "import json\n",
    "import requests\n",
    "import pandas as pd\n",
    "import numpy as np\n",
    "import urllib.request"
   ]
  },
  {
   "cell_type": "code",
   "execution_count": 48,
   "id": "1a82d60f",
   "metadata": {},
   "outputs": [],
   "source": [
    "from config import api_key"
   ]
  },
  {
   "cell_type": "code",
   "execution_count": 49,
   "id": "6731de1b",
   "metadata": {},
   "outputs": [],
   "source": [
    "url = \"https://api.tomtom.com/map/1/tile/basic/main/0/0/0.png?view=Unified&key=\""
   ]
  },
  {
   "cell_type": "code",
   "execution_count": 50,
   "id": "cdceb5c7",
   "metadata": {},
   "outputs": [],
   "source": [
    "query_url = url + api_key"
   ]
  },
  {
   "cell_type": "code",
   "execution_count": null,
   "id": "ddbcb3b4",
   "metadata": {},
   "outputs": [],
   "source": []
  },
  {
   "cell_type": "code",
   "execution_count": null,
   "id": "756fd79f",
   "metadata": {},
   "outputs": [],
   "source": [
    "# query based on city, add input"
   ]
  },
  {
   "cell_type": "code",
   "execution_count": null,
   "id": "056487c9",
   "metadata": {},
   "outputs": [],
   "source": []
  },
  {
   "cell_type": "code",
   "execution_count": 52,
   "id": "7d12c756",
   "metadata": {},
   "outputs": [
    {
     "name": "stdout",
     "output_type": "stream",
     "text": [
      "Ardmore,PA\n"
     ]
    }
   ],
   "source": [
    "city = input()"
   ]
  },
  {
   "cell_type": "code",
   "execution_count": null,
   "id": "11c508bf",
   "metadata": {},
   "outputs": [],
   "source": []
  },
  {
   "cell_type": "code",
   "execution_count": null,
   "id": "d527e4ca",
   "metadata": {},
   "outputs": [],
   "source": []
  },
  {
   "cell_type": "code",
   "execution_count": 53,
   "id": "e267d6e8",
   "metadata": {},
   "outputs": [
    {
     "name": "stdout",
     "output_type": "stream",
     "text": [
      "{\"summary\":{\"query\":\"ardmore pa\",\"queryType\":\"NON_NEAR\",\"queryTime\":31,\"numResults\":3,\"offset\":0,\"totalResults\":3,\"fuzzyLevel\":1,\"queryIntent\":[]},\"results\":[{\"type\":\"Geography\",\"id\":\"SdauU03IBn4PU_6Sc7RBZQ\",\"score\":5.7309341431,\"entityType\":\"Municipality\",\"address\":{\"municipality\":\"Ardmore\",\"countrySubdivision\":\"PA\",\"countrySubdivisionName\":\"Pennsylvania\",\"countrySubdivisionCode\":\"PA\",\"countryCode\":\"US\",\"country\":\"United States\",\"countryCodeISO3\":\"USA\",\"freeformAddress\":\"Ardmore, PA\"},\"position\":{\"lat\":40.003752,\"lon\":-75.287089},\"viewport\":{\"topLeftPoint\":{\"lat\":40.01821,\"lon\":-75.32233},\"btmRightPoint\":{\"lat\":39.99001,\"lon\":-75.27343}},\"boundingBox\":{\"topLeftPoint\":{\"lat\":40.018207,\"lon\":-75.32233},\"btmRightPoint\":{\"lat\":39.990009,\"lon\":-75.273428}},\"dataSources\":{\"geometry\":{\"id\":\"89174a9a-d46c-4f96-ad3c-70aec556b83d\"}}},{\"type\":\"Geography\",\"id\":\"V_EYufIEAoIk2-AeHk931g\",\"score\":4.5580000877,\"entityType\":\"PostalCodeArea\",\"address\":{\"municipality\":\"Ardmore, Lower Merion\",\"countrySecondarySubdivision\":\"Montgomery\",\"countrySubdivision\":\"PA\",\"countrySubdivisionName\":\"Pennsylvania\",\"countrySubdivisionCode\":\"PA\",\"postalCode\":\"19096\",\"postalName\":\"Wynnewood\",\"countryCode\":\"US\",\"country\":\"United States\",\"countryCodeISO3\":\"USA\",\"freeformAddress\":\"Wynnewood, PA 19096\"},\"position\":{\"lat\":39.994532,\"lon\":-75.27513},\"viewport\":{\"topLeftPoint\":{\"lat\":40.02256,\"lon\":-75.29125},\"btmRightPoint\":{\"lat\":39.97498,\"lon\":-75.25144}},\"boundingBox\":{\"topLeftPoint\":{\"lat\":40.022564,\"lon\":-75.291249},\"btmRightPoint\":{\"lat\":39.974979,\"lon\":-75.251437}},\"dataSources\":{\"geometry\":{\"id\":\"00005550-3100-2800-0000-00000c05f5d0\"}}},{\"type\":\"Geography\",\"id\":\"ziytKLdLBKr8TLVv3Ujquw\",\"score\":4.5580000877,\"entityType\":\"PostalCodeArea\",\"address\":{\"municipality\":\"Ardmore, Haverford, Haverford College\",\"countrySecondarySubdivision\":\"Delaware\",\"countrySubdivision\":\"PA\",\"countrySubdivisionName\":\"Pennsylvania\",\"countrySubdivisionCode\":\"PA\",\"postalCode\":\"19003\",\"postalName\":\"Ardmore\",\"countryCode\":\"US\",\"country\":\"United States\",\"countryCodeISO3\":\"USA\",\"freeformAddress\":\"Ardmore, PA 19003\"},\"position\":{\"lat\":40.001484,\"lon\":-75.298075},\"viewport\":{\"topLeftPoint\":{\"lat\":40.01821,\"lon\":-75.32433},\"btmRightPoint\":{\"lat\":39.98684,\"lon\":-75.27611}},\"boundingBox\":{\"topLeftPoint\":{\"lat\":40.018207,\"lon\":-75.324333},\"btmRightPoint\":{\"lat\":39.98684,\"lon\":-75.276111}},\"dataSources\":{\"geometry\":{\"id\":\"00005550-3100-2800-0000-00000c03c67a\"}}}]}\n"
     ]
    }
   ],
   "source": [
    "# Get the center location of the city.\n",
    "url = 'https://api.tomtom.com/search/2/search/'+city+'.json?idxSet=Geo&key='+api_key\n",
    "\n",
    "req = urllib.request.urlopen(url)\n",
    "data = req.read().decode('utf-8')\n",
    "print(data)"
   ]
  },
  {
   "cell_type": "code",
   "execution_count": null,
   "id": "eb4c8f18",
   "metadata": {},
   "outputs": [],
   "source": []
  }
 ],
 "metadata": {
  "kernelspec": {
   "display_name": "Python 3 (ipykernel)",
   "language": "python",
   "name": "python3"
  },
  "language_info": {
   "codemirror_mode": {
    "name": "ipython",
    "version": 3
   },
   "file_extension": ".py",
   "mimetype": "text/x-python",
   "name": "python",
   "nbconvert_exporter": "python",
   "pygments_lexer": "ipython3",
   "version": "3.9.13"
  }
 },
 "nbformat": 4,
 "nbformat_minor": 5
}
