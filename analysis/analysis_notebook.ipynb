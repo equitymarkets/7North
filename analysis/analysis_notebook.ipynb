{
 "cells": [
  {
   "cell_type": "code",
   "execution_count": 57,
   "id": "a36dfa3a",
   "metadata": {},
   "outputs": [],
   "source": [
    "import json\n",
    "import requests\n",
    "import pandas as pd\n",
    "import numpy as np\n",
    "import urllib.request"
   ]
  },
  {
   "cell_type": "code",
   "execution_count": 58,
   "id": "a3fd026a",
   "metadata": {},
   "outputs": [],
   "source": [
    "from config import api_key"
   ]
  },
  {
   "cell_type": "code",
   "execution_count": 66,
   "id": "1fcc9fd9",
   "metadata": {},
   "outputs": [],
   "source": [
    "url = \"https://api.tomtom.com/map/1/tile/basic/main/0/0/0.png?view=Unified&key=\""
   ]
  },
  {
   "cell_type": "code",
   "execution_count": 60,
   "id": "7464821f",
   "metadata": {},
   "outputs": [],
   "source": [
    "url = \"https://api.tomtom.com/traffic/trafficstats/trafficdensity/1?key=\""
   ]
  },
  {
   "cell_type": "code",
   "execution_count": null,
   "id": "40d1b1df",
   "metadata": {},
   "outputs": [],
   "source": []
  },
  {
   "cell_type": "code",
   "execution_count": null,
   "id": "ab2ac2c1",
   "metadata": {},
   "outputs": [],
   "source": []
  },
  {
   "cell_type": "code",
   "execution_count": 67,
   "id": "bed117de",
   "metadata": {},
   "outputs": [],
   "source": [
    "query_url = url + api_key"
   ]
  },
  {
   "cell_type": "code",
   "execution_count": 68,
   "id": "9e499860",
   "metadata": {},
   "outputs": [
    {
     "name": "stdout",
     "output_type": "stream",
     "text": [
      "https://api.tomtom.com/map/1/tile/basic/main/0/0/0.png?view=Unified&key=kSxX20NGoxjDwAfpu9wWG7d41WfTdwjZ\n"
     ]
    }
   ],
   "source": [
    "print(query_url)"
   ]
  },
  {
   "cell_type": "code",
   "execution_count": null,
   "id": "db4cffa0",
   "metadata": {},
   "outputs": [],
   "source": [
    "# query based on city, add input"
   ]
  },
  {
   "cell_type": "code",
   "execution_count": 64,
   "id": "35cd304c",
   "metadata": {},
   "outputs": [
    {
     "ename": "HTTPError",
     "evalue": "HTTP Error 403: Forbidden",
     "output_type": "error",
     "traceback": [
      "\u001b[0;31m---------------------------------------------------------------------------\u001b[0m",
      "\u001b[0;31mHTTPError\u001b[0m                                 Traceback (most recent call last)",
      "\u001b[0;32m/var/folders/bg/x2pcv9md7ld6j058fk1vm0_00000gn/T/ipykernel_20734/3317092456.py\u001b[0m in \u001b[0;36m<module>\u001b[0;34m\u001b[0m\n\u001b[0;32m----> 1\u001b[0;31m \u001b[0mreq\u001b[0m \u001b[0;34m=\u001b[0m \u001b[0murllib\u001b[0m\u001b[0;34m.\u001b[0m\u001b[0mrequest\u001b[0m\u001b[0;34m.\u001b[0m\u001b[0murlopen\u001b[0m\u001b[0;34m(\u001b[0m\u001b[0murl\u001b[0m\u001b[0;34m)\u001b[0m\u001b[0;34m\u001b[0m\u001b[0;34m\u001b[0m\u001b[0m\n\u001b[0m\u001b[1;32m      2\u001b[0m \u001b[0mdata\u001b[0m \u001b[0;34m=\u001b[0m \u001b[0mreq\u001b[0m\u001b[0;34m.\u001b[0m\u001b[0mread\u001b[0m\u001b[0;34m(\u001b[0m\u001b[0;34m)\u001b[0m\u001b[0;34m.\u001b[0m\u001b[0mdecode\u001b[0m\u001b[0;34m(\u001b[0m\u001b[0;34m'utf-8'\u001b[0m\u001b[0;34m)\u001b[0m\u001b[0;34m\u001b[0m\u001b[0;34m\u001b[0m\u001b[0m\n\u001b[1;32m      3\u001b[0m \u001b[0mprint\u001b[0m\u001b[0;34m(\u001b[0m\u001b[0mdata\u001b[0m\u001b[0;34m)\u001b[0m\u001b[0;34m\u001b[0m\u001b[0;34m\u001b[0m\u001b[0m\n",
      "\u001b[0;32m~/opt/anaconda3/lib/python3.9/urllib/request.py\u001b[0m in \u001b[0;36murlopen\u001b[0;34m(url, data, timeout, cafile, capath, cadefault, context)\u001b[0m\n\u001b[1;32m    212\u001b[0m     \u001b[0;32melse\u001b[0m\u001b[0;34m:\u001b[0m\u001b[0;34m\u001b[0m\u001b[0;34m\u001b[0m\u001b[0m\n\u001b[1;32m    213\u001b[0m         \u001b[0mopener\u001b[0m \u001b[0;34m=\u001b[0m \u001b[0m_opener\u001b[0m\u001b[0;34m\u001b[0m\u001b[0;34m\u001b[0m\u001b[0m\n\u001b[0;32m--> 214\u001b[0;31m     \u001b[0;32mreturn\u001b[0m \u001b[0mopener\u001b[0m\u001b[0;34m.\u001b[0m\u001b[0mopen\u001b[0m\u001b[0;34m(\u001b[0m\u001b[0murl\u001b[0m\u001b[0;34m,\u001b[0m \u001b[0mdata\u001b[0m\u001b[0;34m,\u001b[0m \u001b[0mtimeout\u001b[0m\u001b[0;34m)\u001b[0m\u001b[0;34m\u001b[0m\u001b[0;34m\u001b[0m\u001b[0m\n\u001b[0m\u001b[1;32m    215\u001b[0m \u001b[0;34m\u001b[0m\u001b[0m\n\u001b[1;32m    216\u001b[0m \u001b[0;32mdef\u001b[0m \u001b[0minstall_opener\u001b[0m\u001b[0;34m(\u001b[0m\u001b[0mopener\u001b[0m\u001b[0;34m)\u001b[0m\u001b[0;34m:\u001b[0m\u001b[0;34m\u001b[0m\u001b[0;34m\u001b[0m\u001b[0m\n",
      "\u001b[0;32m~/opt/anaconda3/lib/python3.9/urllib/request.py\u001b[0m in \u001b[0;36mopen\u001b[0;34m(self, fullurl, data, timeout)\u001b[0m\n\u001b[1;32m    521\u001b[0m         \u001b[0;32mfor\u001b[0m \u001b[0mprocessor\u001b[0m \u001b[0;32min\u001b[0m \u001b[0mself\u001b[0m\u001b[0;34m.\u001b[0m\u001b[0mprocess_response\u001b[0m\u001b[0;34m.\u001b[0m\u001b[0mget\u001b[0m\u001b[0;34m(\u001b[0m\u001b[0mprotocol\u001b[0m\u001b[0;34m,\u001b[0m \u001b[0;34m[\u001b[0m\u001b[0;34m]\u001b[0m\u001b[0;34m)\u001b[0m\u001b[0;34m:\u001b[0m\u001b[0;34m\u001b[0m\u001b[0;34m\u001b[0m\u001b[0m\n\u001b[1;32m    522\u001b[0m             \u001b[0mmeth\u001b[0m \u001b[0;34m=\u001b[0m \u001b[0mgetattr\u001b[0m\u001b[0;34m(\u001b[0m\u001b[0mprocessor\u001b[0m\u001b[0;34m,\u001b[0m \u001b[0mmeth_name\u001b[0m\u001b[0;34m)\u001b[0m\u001b[0;34m\u001b[0m\u001b[0;34m\u001b[0m\u001b[0m\n\u001b[0;32m--> 523\u001b[0;31m             \u001b[0mresponse\u001b[0m \u001b[0;34m=\u001b[0m \u001b[0mmeth\u001b[0m\u001b[0;34m(\u001b[0m\u001b[0mreq\u001b[0m\u001b[0;34m,\u001b[0m \u001b[0mresponse\u001b[0m\u001b[0;34m)\u001b[0m\u001b[0;34m\u001b[0m\u001b[0;34m\u001b[0m\u001b[0m\n\u001b[0m\u001b[1;32m    524\u001b[0m \u001b[0;34m\u001b[0m\u001b[0m\n\u001b[1;32m    525\u001b[0m         \u001b[0;32mreturn\u001b[0m \u001b[0mresponse\u001b[0m\u001b[0;34m\u001b[0m\u001b[0;34m\u001b[0m\u001b[0m\n",
      "\u001b[0;32m~/opt/anaconda3/lib/python3.9/urllib/request.py\u001b[0m in \u001b[0;36mhttp_response\u001b[0;34m(self, request, response)\u001b[0m\n\u001b[1;32m    630\u001b[0m         \u001b[0;31m# request was successfully received, understood, and accepted.\u001b[0m\u001b[0;34m\u001b[0m\u001b[0;34m\u001b[0m\u001b[0m\n\u001b[1;32m    631\u001b[0m         \u001b[0;32mif\u001b[0m \u001b[0;32mnot\u001b[0m \u001b[0;34m(\u001b[0m\u001b[0;36m200\u001b[0m \u001b[0;34m<=\u001b[0m \u001b[0mcode\u001b[0m \u001b[0;34m<\u001b[0m \u001b[0;36m300\u001b[0m\u001b[0;34m)\u001b[0m\u001b[0;34m:\u001b[0m\u001b[0;34m\u001b[0m\u001b[0;34m\u001b[0m\u001b[0m\n\u001b[0;32m--> 632\u001b[0;31m             response = self.parent.error(\n\u001b[0m\u001b[1;32m    633\u001b[0m                 'http', request, response, code, msg, hdrs)\n\u001b[1;32m    634\u001b[0m \u001b[0;34m\u001b[0m\u001b[0m\n",
      "\u001b[0;32m~/opt/anaconda3/lib/python3.9/urllib/request.py\u001b[0m in \u001b[0;36merror\u001b[0;34m(self, proto, *args)\u001b[0m\n\u001b[1;32m    559\u001b[0m         \u001b[0;32mif\u001b[0m \u001b[0mhttp_err\u001b[0m\u001b[0;34m:\u001b[0m\u001b[0;34m\u001b[0m\u001b[0;34m\u001b[0m\u001b[0m\n\u001b[1;32m    560\u001b[0m             \u001b[0margs\u001b[0m \u001b[0;34m=\u001b[0m \u001b[0;34m(\u001b[0m\u001b[0mdict\u001b[0m\u001b[0;34m,\u001b[0m \u001b[0;34m'default'\u001b[0m\u001b[0;34m,\u001b[0m \u001b[0;34m'http_error_default'\u001b[0m\u001b[0;34m)\u001b[0m \u001b[0;34m+\u001b[0m \u001b[0morig_args\u001b[0m\u001b[0;34m\u001b[0m\u001b[0;34m\u001b[0m\u001b[0m\n\u001b[0;32m--> 561\u001b[0;31m             \u001b[0;32mreturn\u001b[0m \u001b[0mself\u001b[0m\u001b[0;34m.\u001b[0m\u001b[0m_call_chain\u001b[0m\u001b[0;34m(\u001b[0m\u001b[0;34m*\u001b[0m\u001b[0margs\u001b[0m\u001b[0;34m)\u001b[0m\u001b[0;34m\u001b[0m\u001b[0;34m\u001b[0m\u001b[0m\n\u001b[0m\u001b[1;32m    562\u001b[0m \u001b[0;34m\u001b[0m\u001b[0m\n\u001b[1;32m    563\u001b[0m \u001b[0;31m# XXX probably also want an abstract factory that knows when it makes\u001b[0m\u001b[0;34m\u001b[0m\u001b[0;34m\u001b[0m\u001b[0m\n",
      "\u001b[0;32m~/opt/anaconda3/lib/python3.9/urllib/request.py\u001b[0m in \u001b[0;36m_call_chain\u001b[0;34m(self, chain, kind, meth_name, *args)\u001b[0m\n\u001b[1;32m    492\u001b[0m         \u001b[0;32mfor\u001b[0m \u001b[0mhandler\u001b[0m \u001b[0;32min\u001b[0m \u001b[0mhandlers\u001b[0m\u001b[0;34m:\u001b[0m\u001b[0;34m\u001b[0m\u001b[0;34m\u001b[0m\u001b[0m\n\u001b[1;32m    493\u001b[0m             \u001b[0mfunc\u001b[0m \u001b[0;34m=\u001b[0m \u001b[0mgetattr\u001b[0m\u001b[0;34m(\u001b[0m\u001b[0mhandler\u001b[0m\u001b[0;34m,\u001b[0m \u001b[0mmeth_name\u001b[0m\u001b[0;34m)\u001b[0m\u001b[0;34m\u001b[0m\u001b[0;34m\u001b[0m\u001b[0m\n\u001b[0;32m--> 494\u001b[0;31m             \u001b[0mresult\u001b[0m \u001b[0;34m=\u001b[0m \u001b[0mfunc\u001b[0m\u001b[0;34m(\u001b[0m\u001b[0;34m*\u001b[0m\u001b[0margs\u001b[0m\u001b[0;34m)\u001b[0m\u001b[0;34m\u001b[0m\u001b[0;34m\u001b[0m\u001b[0m\n\u001b[0m\u001b[1;32m    495\u001b[0m             \u001b[0;32mif\u001b[0m \u001b[0mresult\u001b[0m \u001b[0;32mis\u001b[0m \u001b[0;32mnot\u001b[0m \u001b[0;32mNone\u001b[0m\u001b[0;34m:\u001b[0m\u001b[0;34m\u001b[0m\u001b[0;34m\u001b[0m\u001b[0m\n\u001b[1;32m    496\u001b[0m                 \u001b[0;32mreturn\u001b[0m \u001b[0mresult\u001b[0m\u001b[0;34m\u001b[0m\u001b[0;34m\u001b[0m\u001b[0m\n",
      "\u001b[0;32m~/opt/anaconda3/lib/python3.9/urllib/request.py\u001b[0m in \u001b[0;36mhttp_error_default\u001b[0;34m(self, req, fp, code, msg, hdrs)\u001b[0m\n\u001b[1;32m    639\u001b[0m \u001b[0;32mclass\u001b[0m \u001b[0mHTTPDefaultErrorHandler\u001b[0m\u001b[0;34m(\u001b[0m\u001b[0mBaseHandler\u001b[0m\u001b[0;34m)\u001b[0m\u001b[0;34m:\u001b[0m\u001b[0;34m\u001b[0m\u001b[0;34m\u001b[0m\u001b[0m\n\u001b[1;32m    640\u001b[0m     \u001b[0;32mdef\u001b[0m \u001b[0mhttp_error_default\u001b[0m\u001b[0;34m(\u001b[0m\u001b[0mself\u001b[0m\u001b[0;34m,\u001b[0m \u001b[0mreq\u001b[0m\u001b[0;34m,\u001b[0m \u001b[0mfp\u001b[0m\u001b[0;34m,\u001b[0m \u001b[0mcode\u001b[0m\u001b[0;34m,\u001b[0m \u001b[0mmsg\u001b[0m\u001b[0;34m,\u001b[0m \u001b[0mhdrs\u001b[0m\u001b[0;34m)\u001b[0m\u001b[0;34m:\u001b[0m\u001b[0;34m\u001b[0m\u001b[0;34m\u001b[0m\u001b[0m\n\u001b[0;32m--> 641\u001b[0;31m         \u001b[0;32mraise\u001b[0m \u001b[0mHTTPError\u001b[0m\u001b[0;34m(\u001b[0m\u001b[0mreq\u001b[0m\u001b[0;34m.\u001b[0m\u001b[0mfull_url\u001b[0m\u001b[0;34m,\u001b[0m \u001b[0mcode\u001b[0m\u001b[0;34m,\u001b[0m \u001b[0mmsg\u001b[0m\u001b[0;34m,\u001b[0m \u001b[0mhdrs\u001b[0m\u001b[0;34m,\u001b[0m \u001b[0mfp\u001b[0m\u001b[0;34m)\u001b[0m\u001b[0;34m\u001b[0m\u001b[0;34m\u001b[0m\u001b[0m\n\u001b[0m\u001b[1;32m    642\u001b[0m \u001b[0;34m\u001b[0m\u001b[0m\n\u001b[1;32m    643\u001b[0m \u001b[0;32mclass\u001b[0m \u001b[0mHTTPRedirectHandler\u001b[0m\u001b[0;34m(\u001b[0m\u001b[0mBaseHandler\u001b[0m\u001b[0;34m)\u001b[0m\u001b[0;34m:\u001b[0m\u001b[0;34m\u001b[0m\u001b[0;34m\u001b[0m\u001b[0m\n",
      "\u001b[0;31mHTTPError\u001b[0m: HTTP Error 403: Forbidden"
     ]
    }
   ],
   "source": [
    "req = urllib.request.urlopen(url)\n",
    "data = req.read().decode('utf-8')\n",
    "print(data)"
   ]
  },
  {
   "cell_type": "code",
   "execution_count": 69,
   "id": "697637b8",
   "metadata": {},
   "outputs": [
    {
     "name": "stdout",
     "output_type": "stream",
     "text": [
      "Wayne,PA\n"
     ]
    }
   ],
   "source": [
    "city = input()"
   ]
  },
  {
   "cell_type": "code",
   "execution_count": null,
   "id": "6de6b3df",
   "metadata": {},
   "outputs": [],
   "source": []
  },
  {
   "cell_type": "code",
   "execution_count": null,
   "id": "4d7753f0",
   "metadata": {},
   "outputs": [],
   "source": []
  },
  {
   "cell_type": "code",
   "execution_count": 70,
   "id": "7b23cdff",
   "metadata": {},
   "outputs": [
    {
     "name": "stdout",
     "output_type": "stream",
     "text": [
      "{\"summary\":{\"query\":\"wayne pa\",\"queryType\":\"NON_NEAR\",\"queryTime\":43,\"numResults\":10,\"offset\":0,\"totalResults\":94,\"fuzzyLevel\":1,\"queryIntent\":[]},\"results\":[{\"type\":\"Geography\",\"id\":\"DuqgPOFf4O1HLLTTwR1mog\",\"score\":5.7328667641,\"entityType\":\"Municipality\",\"address\":{\"municipality\":\"Wayne\",\"countrySecondarySubdivision\":\"Mifflin\",\"countrySubdivision\":\"PA\",\"countrySubdivisionName\":\"Pennsylvania\",\"countrySubdivisionCode\":\"PA\",\"countryCode\":\"US\",\"country\":\"United States\",\"countryCodeISO3\":\"USA\",\"freeformAddress\":\"Wayne, PA (Mifflin)\"},\"position\":{\"lat\":40.427919,\"lon\":-77.794601},\"viewport\":{\"topLeftPoint\":{\"lat\":40.49283,\"lon\":-77.91393},\"btmRightPoint\":{\"lat\":40.36059,\"lon\":-77.72186}},\"boundingBox\":{\"topLeftPoint\":{\"lat\":40.492831,\"lon\":-77.91393},\"btmRightPoint\":{\"lat\":40.360587,\"lon\":-77.721861}},\"dataSources\":{\"geometry\":{\"id\":\"00005858-5800-1200-0000-00007d2c84c9\"}}},{\"type\":\"Geography\",\"id\":\"KRxfEbBfFaBaTU_6CMR5Qg\",\"score\":5.7327179909,\"entityType\":\"Municipality\",\"address\":{\"municipality\":\"Wayne\",\"countrySecondarySubdivision\":\"Schuylkill\",\"countrySubdivision\":\"PA\",\"countrySubdivisionName\":\"Pennsylvania\",\"countrySubdivisionCode\":\"PA\",\"countryCode\":\"US\",\"country\":\"United States\",\"countryCodeISO3\":\"USA\",\"freeformAddress\":\"Wayne, PA (Schuylkill)\"},\"position\":{\"lat\":40.612052,\"lon\":-76.217004},\"viewport\":{\"topLeftPoint\":{\"lat\":40.65243,\"lon\":-76.2985},\"btmRightPoint\":{\"lat\":40.52054,\"lon\":-76.15537}},\"boundingBox\":{\"topLeftPoint\":{\"lat\":40.652429,\"lon\":-76.298504},\"btmRightPoint\":{\"lat\":40.520538,\"lon\":-76.155368}},\"dataSources\":{\"geometry\":{\"id\":\"00005858-5800-1200-0000-00007d2c87c1\"}}},{\"type\":\"Geography\",\"id\":\"5JRNvo9s1oz1bT3x26MbrA\",\"score\":5.7296700478,\"entityType\":\"Municipality\",\"address\":{\"municipality\":\"Wayne\",\"countrySecondarySubdivision\":\"Lawrence\",\"countrySubdivision\":\"PA\",\"countrySubdivisionName\":\"Pennsylvania\",\"countrySubdivisionCode\":\"PA\",\"countryCode\":\"US\",\"country\":\"United States\",\"countryCodeISO3\":\"USA\",\"freeformAddress\":\"Wayne, PA (Lawrence)\"},\"position\":{\"lat\":40.889091,\"lon\":-80.325945},\"viewport\":{\"topLeftPoint\":{\"lat\":40.90981,\"lon\":-80.35446},\"btmRightPoint\":{\"lat\":40.85315,\"lon\":-80.21731}},\"boundingBox\":{\"topLeftPoint\":{\"lat\":40.909812,\"lon\":-80.354456},\"btmRightPoint\":{\"lat\":40.853146,\"lon\":-80.21731}},\"dataSources\":{\"geometry\":{\"id\":\"00005858-5800-1200-0000-00007d2c7509\"}}},{\"type\":\"Geography\",\"id\":\"f_9gODgEfWhAHMIrHlf-fQ\",\"score\":5.7279605865,\"entityType\":\"Municipality\",\"address\":{\"municipality\":\"Wayne\",\"countrySecondarySubdivision\":\"Armstrong\",\"countrySubdivision\":\"PA\",\"countrySubdivisionName\":\"Pennsylvania\",\"countrySubdivisionCode\":\"PA\",\"countryCode\":\"US\",\"country\":\"United States\",\"countryCodeISO3\":\"USA\",\"freeformAddress\":\"Wayne, PA (Armstrong)\"},\"position\":{\"lat\":40.909667,\"lon\":-79.216694},\"viewport\":{\"topLeftPoint\":{\"lat\":40.92941,\"lon\":-79.36672},\"btmRightPoint\":{\"lat\":40.8392,\"lon\":-79.21504}},\"boundingBox\":{\"topLeftPoint\":{\"lat\":40.929407,\"lon\":-79.366723},\"btmRightPoint\":{\"lat\":40.839205,\"lon\":-79.215042}},\"dataSources\":{\"geometry\":{\"id\":\"00005858-5800-1200-0000-00007d2c79bd\"}}},{\"type\":\"Geography\",\"id\":\"qjnhNMHwlpJg_wfVaJlS5Q\",\"score\":5.7270679474,\"entityType\":\"Municipality\",\"address\":{\"municipality\":\"Wayne\",\"countrySecondarySubdivision\":\"Greene\",\"countrySubdivision\":\"PA\",\"countrySubdivisionName\":\"Pennsylvania\",\"countrySubdivisionCode\":\"PA\",\"countryCode\":\"US\",\"country\":\"United States\",\"countryCodeISO3\":\"USA\",\"freeformAddress\":\"Wayne, PA (Greene)\"},\"position\":{\"lat\":39.779173,\"lon\":-80.218029},\"viewport\":{\"topLeftPoint\":{\"lat\":39.82565,\"lon\":-80.30711},\"btmRightPoint\":{\"lat\":39.72104,\"lon\":-80.17153}},\"boundingBox\":{\"topLeftPoint\":{\"lat\":39.825654,\"lon\":-80.307106},\"btmRightPoint\":{\"lat\":39.721045,\"lon\":-80.171532}},\"dataSources\":{\"geometry\":{\"id\":\"00005858-5800-1200-0000-00007d2c798c\"}}},{\"type\":\"Geography\",\"id\":\"Ua0ALsSAYuNEPy7t9gsXvA\",\"score\":5.7259526253,\"entityType\":\"Municipality\",\"address\":{\"municipality\":\"Wayne\",\"countrySecondarySubdivision\":\"Clinton\",\"countrySubdivision\":\"PA\",\"countrySubdivisionName\":\"Pennsylvania\",\"countrySubdivisionCode\":\"PA\",\"countryCode\":\"US\",\"country\":\"United States\",\"countryCodeISO3\":\"USA\",\"freeformAddress\":\"Wayne, PA (Clinton)\"},\"position\":{\"lat\":41.147637,\"lon\":-77.366919},\"viewport\":{\"topLeftPoint\":{\"lat\":41.17493,\"lon\":-77.39966},\"btmRightPoint\":{\"lat\":41.07864,\"lon\":-77.25159}},\"boundingBox\":{\"topLeftPoint\":{\"lat\":41.174932,\"lon\":-77.399657},\"btmRightPoint\":{\"lat\":41.078643,\"lon\":-77.251585}},\"dataSources\":{\"geometry\":{\"id\":\"00005858-5800-1200-0000-00007d2c75dc\"}}},{\"type\":\"Geography\",\"id\":\"f1KFtfJTzYgHDX-5jquy1g\",\"score\":5.7250614166,\"entityType\":\"Municipality\",\"address\":{\"municipality\":\"Wayne\",\"countrySecondarySubdivision\":\"Crawford\",\"countrySubdivision\":\"PA\",\"countrySubdivisionName\":\"Pennsylvania\",\"countrySubdivisionCode\":\"PA\",\"countryCode\":\"US\",\"country\":\"United States\",\"countryCodeISO3\":\"USA\",\"freeformAddress\":\"Wayne, PA (Crawford)\"},\"position\":{\"lat\":41.524604,\"lon\":-79.975512},\"viewport\":{\"topLeftPoint\":{\"lat\":41.58635,\"lon\":-80.049},\"btmRightPoint\":{\"lat\":41.48871,\"lon\":-79.87641}},\"boundingBox\":{\"topLeftPoint\":{\"lat\":41.586349,\"lon\":-80.048998},\"btmRightPoint\":{\"lat\":41.488707,\"lon\":-79.876415}},\"dataSources\":{\"geometry\":{\"id\":\"00005858-5800-1200-0000-00007d2c7525\"}}},{\"type\":\"Geography\",\"id\":\"E26tNL7Icx7TfJc4xOWPlw\",\"score\":5.7226076126,\"entityType\":\"Municipality\",\"address\":{\"municipality\":\"Wayne\",\"countrySecondarySubdivision\":\"Dauphin\",\"countrySubdivision\":\"PA\",\"countrySubdivisionName\":\"Pennsylvania\",\"countrySubdivisionCode\":\"PA\",\"countryCode\":\"US\",\"country\":\"United States\",\"countryCodeISO3\":\"USA\",\"freeformAddress\":\"Wayne, PA (Dauphin)\"},\"position\":{\"lat\":40.452275,\"lon\":-76.879266},\"viewport\":{\"topLeftPoint\":{\"lat\":40.49568,\"lon\":-76.88426},\"btmRightPoint\":{\"lat\":40.42528,\"lon\":-76.78064}},\"boundingBox\":{\"topLeftPoint\":{\"lat\":40.495681,\"lon\":-76.884265},\"btmRightPoint\":{\"lat\":40.42528,\"lon\":-76.780644}},\"dataSources\":{\"geometry\":{\"id\":\"00005858-5800-1200-0000-00007d2c841d\"}}},{\"type\":\"Geography\",\"id\":\"cz_maa0gBUTglwabwodynA\",\"score\":5.7223105431,\"entityType\":\"Municipality\",\"address\":{\"municipality\":\"Wayne\",\"countrySecondarySubdivision\":\"Erie\",\"countrySubdivision\":\"PA\",\"countrySubdivisionName\":\"Pennsylvania\",\"countrySubdivisionCode\":\"PA\",\"countryCode\":\"US\",\"country\":\"United States\",\"countryCodeISO3\":\"USA\",\"freeformAddress\":\"Wayne, PA (Erie)\"},\"position\":{\"lat\":41.979808,\"lon\":-79.670336},\"viewport\":{\"topLeftPoint\":{\"lat\":41.99892,\"lon\":-79.7619},\"btmRightPoint\":{\"lat\":41.91762,\"lon\":-79.61007}},\"boundingBox\":{\"topLeftPoint\":{\"lat\":41.998922,\"lon\":-79.761904},\"btmRightPoint\":{\"lat\":41.917624,\"lon\":-79.610073}},\"dataSources\":{\"geometry\":{\"id\":\"00005858-5800-1200-0000-00007d2c7732\"}}},{\"type\":\"Geography\",\"id\":\"HGGKs1Bjmb7BB-wdp2-gfw\",\"score\":5.7186675072,\"entityType\":\"Municipality\",\"address\":{\"municipality\":\"Wayne\",\"countrySubdivision\":\"PA\",\"countrySubdivisionName\":\"Pennsylvania\",\"countrySubdivisionCode\":\"PA\",\"countryCode\":\"US\",\"country\":\"United States\",\"countryCodeISO3\":\"USA\",\"freeformAddress\":\"Wayne, PA\"},\"position\":{\"lat\":40.045785,\"lon\":-75.387892},\"viewport\":{\"topLeftPoint\":{\"lat\":40.0972,\"lon\":-75.47805},\"btmRightPoint\":{\"lat\":40.01736,\"lon\":-75.32883}},\"boundingBox\":{\"topLeftPoint\":{\"lat\":40.0972,\"lon\":-75.478054},\"btmRightPoint\":{\"lat\":40.017357,\"lon\":-75.328826}},\"dataSources\":{\"geometry\":{\"id\":\"f9e7dbe3-5871-48f7-a2c9-5f85378fb709\"}}}]}\n"
     ]
    }
   ],
   "source": [
    "# Get the center location of the city.\n",
    "url = 'https://api.tomtom.com/search/2/search/'+city+'.json?idxSet=Geo&key='+api_key\n",
    "\n",
    "req = urllib.request.urlopen(url)\n",
    "data = req.read().decode('utf-8')\n",
    "print(data)"
   ]
  },
  {
   "cell_type": "code",
   "execution_count": null,
   "id": "3b7887a4",
   "metadata": {},
   "outputs": [],
   "source": []
  }
 ],
 "metadata": {
  "kernelspec": {
   "display_name": "Python 3 (ipykernel)",
   "language": "python",
   "name": "python3"
  },
  "language_info": {
   "codemirror_mode": {
    "name": "ipython",
    "version": 3
   },
   "file_extension": ".py",
   "mimetype": "text/x-python",
   "name": "python",
   "nbconvert_exporter": "python",
   "pygments_lexer": "ipython3",
   "version": "3.9.13"
  }
 },
 "nbformat": 4,
 "nbformat_minor": 5
}
