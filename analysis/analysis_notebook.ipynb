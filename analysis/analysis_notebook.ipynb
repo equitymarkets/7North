{
 "cells": [
  {
   "cell_type": "code",
   "execution_count": 31,
   "id": "2a64d45f",
   "metadata": {},
   "outputs": [],
   "source": [
    "import json\n",
    "import requests\n",
    "import pandas as pd\n",
    "import numpy as np\n",
    "import urllib.request"
   ]
  },
  {
   "cell_type": "code",
   "execution_count": 32,
   "id": "542d1244",
   "metadata": {},
   "outputs": [],
   "source": [
    "from config import api_key"
   ]
  },
  {
   "cell_type": "code",
   "execution_count": 33,
   "id": "31de779d",
   "metadata": {},
   "outputs": [],
   "source": [
    "url = \"https://api.tomtom.com/map/1/tile/basic/main/0/0/0.png?view=Unified&key=\""
   ]
  },
  {
   "cell_type": "code",
   "execution_count": 41,
   "id": "65ea8f73",
   "metadata": {},
   "outputs": [],
   "source": [
    "query_url = url + api_key"
   ]
  },
  {
   "cell_type": "code",
   "execution_count": 42,
   "id": "83a68899",
   "metadata": {},
   "outputs": [
    {
     "name": "stdout",
     "output_type": "stream",
     "text": [
      "https://api.tomtom.com/search/2/search/BrynMawr,PA.json?idxSet=Geo&key=kSxX20NGoxjDwAfpu9wWG7d41WfTdwjZkSxX20NGoxjDwAfpu9wWG7d41WfTdwjZ\n"
     ]
    }
   ],
   "source": [
    "print(query_url)"
   ]
  },
  {
   "cell_type": "code",
   "execution_count": null,
   "id": "23691f30",
   "metadata": {},
   "outputs": [],
   "source": []
  },
  {
   "cell_type": "code",
   "execution_count": 39,
   "id": "287c8545",
   "metadata": {},
   "outputs": [],
   "source": [
    "city = \"BrynMawr,PA\""
   ]
  },
  {
   "cell_type": "code",
   "execution_count": 43,
   "id": "f5e7fd39",
   "metadata": {},
   "outputs": [],
   "source": [
    "# Get the center location of the city.\n",
    "url = 'https://api.tomtom.com/search/2/search/'+city+'.json?idxSet=Geo&key='+api_key\n",
    "\n",
    "req = urllib.request.urlopen(url)\n",
    "data = req.read().decode('utf-8')\n"
   ]
  },
  {
   "cell_type": "code",
   "execution_count": null,
   "id": "cbd066f0",
   "metadata": {},
   "outputs": [],
   "source": []
  }
 ],
 "metadata": {
  "kernelspec": {
   "display_name": "Python 3 (ipykernel)",
   "language": "python",
   "name": "python3"
  },
  "language_info": {
   "codemirror_mode": {
    "name": "ipython",
    "version": 3
   },
   "file_extension": ".py",
   "mimetype": "text/x-python",
   "name": "python",
   "nbconvert_exporter": "python",
   "pygments_lexer": "ipython3",
   "version": "3.9.13"
  }
 },
 "nbformat": 4,
 "nbformat_minor": 5
}
